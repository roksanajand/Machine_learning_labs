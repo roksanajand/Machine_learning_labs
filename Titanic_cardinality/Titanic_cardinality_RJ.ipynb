{
 "cells": [
  {
   "cell_type": "markdown",
   "id": "e4827c6c-bb3c-42e9-9d83-ee35b79ee1b2",
   "metadata": {},
   "source": [
    "## Titanic - cardinality"
   ]
  },
  {
   "cell_type": "markdown",
   "id": "47faea58-8318-42f2-bf31-e619fb830b8b",
   "metadata": {},
   "source": [
    "### Roksana Jandura grupa 4 nr. 416314"
   ]
  },
  {
   "cell_type": "markdown",
   "id": "ded2a897-4be6-4701-9d8e-c1eb68a40033",
   "metadata": {},
   "source": [
    "### Wczytanie danych"
   ]
  },
  {
   "cell_type": "code",
   "execution_count": 1,
   "id": "649a811d-2a16-454b-bd30-157a911e21f6",
   "metadata": {},
   "outputs": [],
   "source": [
    "import pandas as pd\n",
    "import numpy as np"
   ]
  },
  {
   "cell_type": "code",
   "execution_count": 2,
   "id": "0c9e7aca-3b38-499b-ab4d-a98ba8345ccc",
   "metadata": {},
   "outputs": [],
   "source": [
    "df = pd.read_csv(\"Zbiór danych Titanic.csv\",na_values='?')"
   ]
  },
  {
   "cell_type": "code",
   "execution_count": 3,
   "id": "76e6ec56-cb5b-4584-90d1-7a56edcb37ea",
   "metadata": {},
   "outputs": [
    {
     "data": {
      "text/html": [
       "<div>\n",
       "<style scoped>\n",
       "    .dataframe tbody tr th:only-of-type {\n",
       "        vertical-align: middle;\n",
       "    }\n",
       "\n",
       "    .dataframe tbody tr th {\n",
       "        vertical-align: top;\n",
       "    }\n",
       "\n",
       "    .dataframe thead th {\n",
       "        text-align: right;\n",
       "    }\n",
       "</style>\n",
       "<table border=\"1\" class=\"dataframe\">\n",
       "  <thead>\n",
       "    <tr style=\"text-align: right;\">\n",
       "      <th></th>\n",
       "      <th>'pclass'</th>\n",
       "      <th>'survived'</th>\n",
       "      <th>'name'</th>\n",
       "      <th>'sex'</th>\n",
       "      <th>'age'</th>\n",
       "      <th>'sibsp'</th>\n",
       "      <th>'parch'</th>\n",
       "      <th>'ticket'</th>\n",
       "      <th>'fare'</th>\n",
       "      <th>'cabin'</th>\n",
       "      <th>'embarked'</th>\n",
       "      <th>'boat'</th>\n",
       "      <th>'body'</th>\n",
       "      <th>'home.dest'</th>\n",
       "    </tr>\n",
       "  </thead>\n",
       "  <tbody>\n",
       "    <tr>\n",
       "      <th>0</th>\n",
       "      <td>1</td>\n",
       "      <td>1</td>\n",
       "      <td>Allen, Miss. Elisabeth Walton</td>\n",
       "      <td>female</td>\n",
       "      <td>29.0000</td>\n",
       "      <td>0</td>\n",
       "      <td>0</td>\n",
       "      <td>24160</td>\n",
       "      <td>211.3375</td>\n",
       "      <td>B5</td>\n",
       "      <td>S</td>\n",
       "      <td>2</td>\n",
       "      <td>NaN</td>\n",
       "      <td>St Louis, MO</td>\n",
       "    </tr>\n",
       "    <tr>\n",
       "      <th>1</th>\n",
       "      <td>1</td>\n",
       "      <td>1</td>\n",
       "      <td>Allison, Master. Hudson Trevor</td>\n",
       "      <td>male</td>\n",
       "      <td>0.9167</td>\n",
       "      <td>1</td>\n",
       "      <td>2</td>\n",
       "      <td>113781</td>\n",
       "      <td>151.5500</td>\n",
       "      <td>C22 C26</td>\n",
       "      <td>S</td>\n",
       "      <td>11</td>\n",
       "      <td>NaN</td>\n",
       "      <td>Montreal, PQ / Chesterville, ON</td>\n",
       "    </tr>\n",
       "    <tr>\n",
       "      <th>2</th>\n",
       "      <td>1</td>\n",
       "      <td>0</td>\n",
       "      <td>Allison, Miss. Helen Loraine</td>\n",
       "      <td>female</td>\n",
       "      <td>2.0000</td>\n",
       "      <td>1</td>\n",
       "      <td>2</td>\n",
       "      <td>113781</td>\n",
       "      <td>151.5500</td>\n",
       "      <td>C22 C26</td>\n",
       "      <td>S</td>\n",
       "      <td>NaN</td>\n",
       "      <td>NaN</td>\n",
       "      <td>Montreal, PQ / Chesterville, ON</td>\n",
       "    </tr>\n",
       "    <tr>\n",
       "      <th>3</th>\n",
       "      <td>1</td>\n",
       "      <td>0</td>\n",
       "      <td>Allison, Mr. Hudson Joshua Creighton</td>\n",
       "      <td>male</td>\n",
       "      <td>30.0000</td>\n",
       "      <td>1</td>\n",
       "      <td>2</td>\n",
       "      <td>113781</td>\n",
       "      <td>151.5500</td>\n",
       "      <td>C22 C26</td>\n",
       "      <td>S</td>\n",
       "      <td>NaN</td>\n",
       "      <td>135.0</td>\n",
       "      <td>Montreal, PQ / Chesterville, ON</td>\n",
       "    </tr>\n",
       "    <tr>\n",
       "      <th>4</th>\n",
       "      <td>1</td>\n",
       "      <td>0</td>\n",
       "      <td>Allison, Mrs. Hudson J C (Bessie Waldo Daniels)</td>\n",
       "      <td>female</td>\n",
       "      <td>25.0000</td>\n",
       "      <td>1</td>\n",
       "      <td>2</td>\n",
       "      <td>113781</td>\n",
       "      <td>151.5500</td>\n",
       "      <td>C22 C26</td>\n",
       "      <td>S</td>\n",
       "      <td>NaN</td>\n",
       "      <td>NaN</td>\n",
       "      <td>Montreal, PQ / Chesterville, ON</td>\n",
       "    </tr>\n",
       "  </tbody>\n",
       "</table>\n",
       "</div>"
      ],
      "text/plain": [
       "   'pclass'  'survived'                                           'name'  \\\n",
       "0         1           1                    Allen, Miss. Elisabeth Walton   \n",
       "1         1           1                   Allison, Master. Hudson Trevor   \n",
       "2         1           0                     Allison, Miss. Helen Loraine   \n",
       "3         1           0             Allison, Mr. Hudson Joshua Creighton   \n",
       "4         1           0  Allison, Mrs. Hudson J C (Bessie Waldo Daniels)   \n",
       "\n",
       "    'sex'    'age'  'sibsp'  'parch' 'ticket'    'fare'  'cabin' 'embarked'  \\\n",
       "0  female  29.0000        0        0    24160  211.3375       B5          S   \n",
       "1    male   0.9167        1        2   113781  151.5500  C22 C26          S   \n",
       "2  female   2.0000        1        2   113781  151.5500  C22 C26          S   \n",
       "3    male  30.0000        1        2   113781  151.5500  C22 C26          S   \n",
       "4  female  25.0000        1        2   113781  151.5500  C22 C26          S   \n",
       "\n",
       "  'boat'  'body'                      'home.dest'  \n",
       "0      2     NaN                     St Louis, MO  \n",
       "1     11     NaN  Montreal, PQ / Chesterville, ON  \n",
       "2    NaN     NaN  Montreal, PQ / Chesterville, ON  \n",
       "3    NaN   135.0  Montreal, PQ / Chesterville, ON  \n",
       "4    NaN     NaN  Montreal, PQ / Chesterville, ON  "
      ]
     },
     "execution_count": 3,
     "metadata": {},
     "output_type": "execute_result"
    }
   ],
   "source": [
    "df.head()"
   ]
  },
  {
   "cell_type": "markdown",
   "id": "201d3e3d-98c4-4f2f-8a5d-51582900ae52",
   "metadata": {},
   "source": [
    "### Sprawdzenie liczebność poszczególnych etykiet dla danych"
   ]
  },
  {
   "cell_type": "code",
   "execution_count": 4,
   "id": "0c9fabca-8212-4ad9-900d-77ae9e177519",
   "metadata": {},
   "outputs": [
    {
     "name": "stdout",
     "output_type": "stream",
     "text": [
      "Liczba etykiet zmiennej 'pclass': 3\n",
      "Liczba etykiet zmiennej 'survived': 2\n",
      "Liczba etykiet zmiennej 'name': 1307\n",
      "Liczba etykiet zmiennej 'sex': 2\n",
      "Liczba etykiet zmiennej 'age': 99\n",
      "Liczba etykiet zmiennej 'sibsp': 7\n",
      "Liczba etykiet zmiennej 'parch': 8\n",
      "Liczba etykiet zmiennej 'ticket': 929\n",
      "Liczba etykiet zmiennej 'fare': 282\n",
      "Liczba etykiet zmiennej 'cabin': 187\n",
      "Liczba etykiet zmiennej 'embarked': 4\n",
      "Liczba etykiet zmiennej 'boat': 28\n",
      "Liczba etykiet zmiennej 'body': 122\n",
      "Liczba etykiet zmiennej 'home.dest': 370\n"
     ]
    }
   ],
   "source": [
    "for col in df.columns:\n",
    "    print('Liczba etykiet zmiennej {}: {}'.format(col, len(df[col].unique())))\n",
    "#Musimy pamiętać, że unique() traktuje wartość NaN jako oddzielną kategorię"
   ]
  },
  {
   "cell_type": "markdown",
   "id": "a84ca859-768f-4cf2-af6d-4d5a394247c3",
   "metadata": {},
   "source": [
    "Do dalszej analizy wybieram następujące zmienne jakościowe: pclass, survived, sex, ticket, cabin, embarked, boat, home.dest. \n",
    "\n",
    "Odrzucam:\n",
    "\n",
    "*name, ponieważ jest unikalna dla każdego (zawiera 1307 unikalnych wartości na 1309 możliwych), brak wartości analitycznej\n",
    "\n",
    "*age- ma wartość ciągłą\n",
    "\n",
    "*sibsp, parch - zmienna ilościowa, liczba rodzeństwa/małżonków, rodziców/dzieci\n",
    "\n",
    "*fare - jest to kwota biletu więc zmienna ilościowa\n",
    "\n",
    "*body - były przypisywane tylko osobom zmarłym odnalezionym, unikalne dla każdego odnalezionego ciała\n",
    "\n",
    "\n",
    "\n"
   ]
  },
  {
   "cell_type": "code",
   "execution_count": 5,
   "id": "d8b3d95b-54b8-44bd-a9c6-60f1b5fe1f58",
   "metadata": {},
   "outputs": [
    {
     "name": "stdout",
     "output_type": "stream",
     "text": [
      "Liczba etykiet zmiennej ''pclass'': 3\n",
      "Liczba etykiet zmiennej ''survived'': 2\n",
      "Liczba etykiet zmiennej ''sex'': 2\n",
      "Liczba etykiet zmiennej ''ticket'': 929\n",
      "Liczba etykiet zmiennej ''cabin'': 187\n",
      "Liczba etykiet zmiennej ''embarked'': 4\n",
      "Liczba etykiet zmiennej ''boat'': 28\n",
      "Liczba etykiet zmiennej ''home.dest'': 370\n"
     ]
    }
   ],
   "source": [
    "qualitative_cols = [\"'pclass'\",\"'survived'\", \"'sex'\", \"'ticket'\", \"'cabin'\", \n",
    "                    \"'embarked'\", \"'boat'\", \"'home.dest'\"] #zmienne jakościowe\n",
    "\n",
    "for col in qualitative_cols:\n",
    "    print(\"Liczba etykiet zmiennej '{}': {}\".format(col, len(df[col].unique())))"
   ]
  },
  {
   "cell_type": "markdown",
   "id": "80935097-1a48-484c-ba14-648d5acd3365",
   "metadata": {},
   "source": [
    "### Liczba wszystkich pasażerów"
   ]
  },
  {
   "cell_type": "code",
   "execution_count": 6,
   "id": "17aaed0c-1e1a-414f-86bf-f9422c685576",
   "metadata": {},
   "outputs": [
    {
     "name": "stdout",
     "output_type": "stream",
     "text": [
      "Liczba wszystkich pasażerów: 1309\n"
     ]
    }
   ],
   "source": [
    "print('Liczba wszystkich pasażerów: {}'.format(len(df)))"
   ]
  },
  {
   "cell_type": "markdown",
   "id": "4d0718ee-6b9d-4682-b8c5-e954be9d0489",
   "metadata": {},
   "source": [
    "### Podział zmiennych ze względu na dużą i małą moc zbioru (kardynalność)"
   ]
  },
  {
   "cell_type": "markdown",
   "id": "85c2b5b3-b55a-456b-98b5-6942d534862c",
   "metadata": {},
   "source": [
    "**Niska kardynalność (mała moc zbioru):**\n",
    "\n",
    "'pclass': 3 klasy pasażerskie (1, 2, 3)\n",
    "\n",
    "'survived' : 2 unikalne wartości 1,0 - informacja, czy dany pasażer przeżył, czy nie\n",
    "\n",
    "'sex': 2 wartości („male”, „female”)\n",
    "\n",
    "'embarked': 4 porty zaokrętowania"
   ]
  },
  {
   "cell_type": "markdown",
   "id": "4dbabbcb-9d84-4e48-99f5-e10dadac3869",
   "metadata": {},
   "source": [
    "**Średnia kardynalność (umiarkowana moc zbioru):**\n",
    "\n",
    "'boat': 28 etykiet (różne szalupy ratunkowe)"
   ]
  },
  {
   "cell_type": "markdown",
   "id": "09f0e63a-f99a-4bda-91ef-b158c4a2850b",
   "metadata": {},
   "source": [
    "**Wysoka kardynalność (duża moc zbioru)** — może powodować problemy przy kodowaniu:\n",
    "\n",
    "'ticket': 929 różnych biletów\n",
    "\n",
    "'cabin': 187 różnych kabin\n",
    "\n",
    "'home.dest': 370 miejsc docelowych\n",
    "\n",
    "Zmienne o wysokiej kardynalności (ticket, cabin, home.dest) wymagają dodatkowego przetworzenia lub redukcji liczby unikalnych kategorii, aby mogły zostać skutecznie wykorzystane w modelach uczenia maszynowego."
   ]
  },
  {
   "cell_type": "markdown",
   "id": "e352ab34-1211-412d-9a66-f43fc83d3e52",
   "metadata": {},
   "source": [
    "### Ilość unikalnych etykiet zmiennej mówiącej o kabinie danego pasażera"
   ]
  },
  {
   "cell_type": "code",
   "execution_count": 7,
   "id": "cc8a1c5c-db7c-409f-a3cb-206b41668014",
   "metadata": {},
   "outputs": [
    {
     "name": "stdout",
     "output_type": "stream",
     "text": [
      "Liczba unikalnych kabin: 187\n"
     ]
    }
   ],
   "source": [
    "unique_cabins = df[\"'cabin'\"].unique()\n",
    "#print(type(unique_cabins))\n",
    "print('Liczba unikalnych kabin:', len(unique_cabins))"
   ]
  },
  {
   "cell_type": "markdown",
   "id": "15931b31-8554-45ae-93b8-ae567d4cf22f",
   "metadata": {},
   "source": [
    "### Zredukowanie liczby cech dla zmiennej opisującej kabiny poprzez zastąpienie obecnych etykiet w formacie LL11 do etykiet zawierających tylko pierwszą literę"
   ]
  },
  {
   "cell_type": "code",
   "execution_count": 8,
   "id": "3c065494-f0a9-4a16-ac44-87dcc7d048dc",
   "metadata": {},
   "outputs": [
    {
     "name": "stdout",
     "output_type": "stream",
     "text": [
      "    'cabin' CabinReduced\n",
      "0        B5            B\n",
      "1   C22 C26            C\n",
      "2   C22 C26            C\n",
      "3   C22 C26            C\n",
      "4   C22 C26            C\n",
      "5       E12            E\n",
      "6        D7            D\n",
      "7       A36            A\n",
      "8      C101            C\n",
      "9       NaN            n\n",
      "10  C62 C64            C\n",
      "11  C62 C64            C\n",
      "12      B35            B\n",
      "13      NaN            n\n",
      "14      A23            A\n",
      "15      NaN            n\n",
      "16  B58 B60            B\n",
      "17  B58 B60            B\n",
      "18      D15            D\n",
      "19       C6            C\n"
     ]
    }
   ],
   "source": [
    "df['CabinReduced'] = df[\"'cabin'\"].astype(str).str[0]\n",
    "print(df[[\"'cabin'\", 'CabinReduced']].head(20))"
   ]
  },
  {
   "cell_type": "markdown",
   "id": "98b93e3e-54b4-4bbe-b945-86a6982eeae3",
   "metadata": {},
   "source": [
    "### O ile procent zredukowano kardynalność zbioru zmiennej opisującej kabiny?"
   ]
  },
  {
   "cell_type": "code",
   "execution_count": 9,
   "id": "3ebbc5c6-48a2-4ad8-a452-366d80c5be11",
   "metadata": {},
   "outputs": [
    {
     "name": "stdout",
     "output_type": "stream",
     "text": [
      "Liczba unikalnych etykiet w kolumnie \"cabin\": 187\n",
      "Liczba unikalnych etykiet w kolumnie \"CabinReduced\": 9\n",
      "Kardynalność została zredukowana o: 95.19%\n"
     ]
    }
   ],
   "source": [
    "reduced_count = len(df['CabinReduced'].unique())\n",
    "print('Liczba unikalnych etykiet w kolumnie \"cabin\": {}'.format(len(unique_cabins)))\n",
    "print('Liczba unikalnych etykiet w kolumnie \"CabinReduced\": {}'.format(reduced_count))\n",
    "\n",
    "reduction_percentage = ((len(unique_cabins) - reduced_count) / len(unique_cabins)) * 100\n",
    "print('Kardynalność została zredukowana o: {:.2f}%'.format(reduction_percentage))"
   ]
  },
  {
   "cell_type": "markdown",
   "id": "d5b3cae2-d888-4c3d-899d-fd603c61652b",
   "metadata": {},
   "source": [
    "### Uzasadnij dlaczego dokonujesz redukcji akurat tej zmiennej. Jak to wpływa na przyszłe analizy. Czy powoduje jakieś negatywne skutki?"
   ]
  },
  {
   "cell_type": "markdown",
   "id": "1e598ff0-5584-4cda-a131-ffa8b5005770",
   "metadata": {},
   "source": [
    "Wybrałam tą kolumnę, ponieważ zawiera ona 186 unikatowych wartości.\n",
    "Tak wysoka liczba unikalnych wartości utrudnia analizę i może powodować poważne problemy w dalszym przetwarzaniu danych\n",
    "Dodatkowo, wiele z tych wartości może być unikalnych tylko z pozoru – np. „C85” i „C86” mogą prawdopodobnie oznaczać kabiny znajdujące się na tym samym pokładzie i różniące się tylko numerem lub wręcz sąsiadujące, identyczne kabiny.\n",
    "\n",
    "Dlatego dokonałam redukcji zmiennej cabin poprzez wydzielenie jedynie pierwszej litery i utworzenie nowej zmiennej CabinReduced. W efekcie liczba unikalnych etykiet spadła z 186 do 9, co stanowi redukcję o 95,19%. Taka transformacja pozwala zachować istotną informację o lokalizacji kabiny, przy jednoczesnym znacznym ograniczeniu liczby kategorii, co ułatwia dalsze analizy i modelowanie.\n",
    "\n",
    "Redukcja ta przynosi wiele korzyści: zmniejsza złożoność zbioru danych, ułatwia analizę i kodowanie zmiennej, a także ogranicza ryzyko przeuczenia modeli predykcyjnych.\n",
    "\n",
    "Potencjalnym minusem tej redukcji jest utrata szczegółowej informacji o konkretnych numerach kabin - utrata infomracji, którzy pasażerowie mieli przydzieloną tą samą kabinę."
   ]
  },
  {
   "cell_type": "code",
   "execution_count": 10,
   "id": "cc565356-3fef-4284-a8c9-9461d743a324",
   "metadata": {},
   "outputs": [],
   "source": [
    "df.to_csv(\"titanic_cardinality.csv\", index=False)\n"
   ]
  }
 ],
 "metadata": {
  "kernelspec": {
   "display_name": "Python (DataScience)",
   "language": "python",
   "name": "datascience"
  },
  "language_info": {
   "codemirror_mode": {
    "name": "ipython",
    "version": 3
   },
   "file_extension": ".py",
   "mimetype": "text/x-python",
   "name": "python",
   "nbconvert_exporter": "python",
   "pygments_lexer": "ipython3",
   "version": "3.11.11"
  }
 },
 "nbformat": 4,
 "nbformat_minor": 5
}
