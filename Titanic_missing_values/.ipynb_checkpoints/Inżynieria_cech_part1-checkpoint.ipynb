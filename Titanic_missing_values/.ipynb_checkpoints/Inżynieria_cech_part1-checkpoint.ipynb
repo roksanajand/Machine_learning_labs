{
 "cells": [
  {
   "cell_type": "code",
   "execution_count": 47,
   "id": "ed02bca2-c888-4112-9dd3-0e88ea93add9",
   "metadata": {},
   "outputs": [],
   "source": [
    "import pandas as pd\n",
    "import numpy as np"
   ]
  },
  {
   "cell_type": "markdown",
   "id": "dcc4ecbb-d239-420f-a908-d9051aba5027",
   "metadata": {},
   "source": [
    "Dodaje na_values='?' ponieważ tak są zapisane NaN w tym pliku "
   ]
  },
  {
   "cell_type": "code",
   "execution_count": 18,
   "id": "595dd998-2a77-4d74-8ca7-f291f8bb0fe8",
   "metadata": {},
   "outputs": [],
   "source": [
    "df = pd.read_csv(\"Zbiór danych Titanic.csv\",na_values='?')"
   ]
  },
  {
   "cell_type": "code",
   "execution_count": 19,
   "id": "ab050e1a-2794-484f-9534-ad787e68d01b",
   "metadata": {},
   "outputs": [
    {
     "name": "stdout",
     "output_type": "stream",
     "text": [
      "<class 'pandas.core.frame.DataFrame'>\n",
      "RangeIndex: 1309 entries, 0 to 1308\n",
      "Data columns (total 14 columns):\n",
      " #   Column       Non-Null Count  Dtype  \n",
      "---  ------       --------------  -----  \n",
      " 0   'pclass'     1309 non-null   int64  \n",
      " 1   'survived'   1309 non-null   int64  \n",
      " 2   'name'       1309 non-null   object \n",
      " 3   'sex'        1309 non-null   object \n",
      " 4   'age'        1046 non-null   float64\n",
      " 5   'sibsp'      1309 non-null   int64  \n",
      " 6   'parch'      1309 non-null   int64  \n",
      " 7   'ticket'     1309 non-null   object \n",
      " 8   'fare'       1308 non-null   float64\n",
      " 9   'cabin'      295 non-null    object \n",
      " 10  'embarked'   1307 non-null   object \n",
      " 11  'boat'       486 non-null    object \n",
      " 12  'body'       121 non-null    float64\n",
      " 13  'home.dest'  745 non-null    object \n",
      "dtypes: float64(3), int64(4), object(7)\n",
      "memory usage: 143.3+ KB\n"
     ]
    }
   ],
   "source": [
    "df.info()"
   ]
  },
  {
   "cell_type": "markdown",
   "id": "d68a085d-c813-4c3a-96ab-f289160b346a",
   "metadata": {},
   "source": [
    "Opis zmiennych \n",
    "\n",
    "pclass - klasa, odzwierciedla status ekonomiczny podróżującego\n",
    "\n",
    "survived - czy przeżył/a katastrofę (1 = przeżył, 0 = nie przeżył)\n",
    "\n",
    "name - imie nazwisko\n",
    "\n",
    "sex - płeć\n",
    "\n",
    "age - wiek\n",
    "\n",
    "sibsp - liczba rodzeństwa/małżonków\n",
    "\n",
    "parch - liczba dzieci/rodziców\n",
    "\n",
    "ticket - numer biletu\n",
    "\n",
    "fare - opłata za bilet\n",
    "\n",
    "cabin - kabina\n",
    "\n",
    "embarked - port z którego wypłynął\n",
    "\n",
    "boat - numer łodzi, którą pasażer opuścił statek, jeśli przeżył\n",
    "\n",
    "body - numer identyfikacyjny ciała, jeśli pasażer zginął i jego ciało zostało odnalezione\n",
    "\n",
    "home.dest - cel podróży"
   ]
  },
  {
   "cell_type": "markdown",
   "id": "34983acd-8a70-4a46-8633-0b1f9e415386",
   "metadata": {},
   "source": [
    "Zmienne numeryczne:'pclass', 'survived', 'age', 'sibsp', 'parch', 'fare', 'body'\n",
    "\n",
    "Zmienne kategoryczne:'name', 'sex', 'ticket', 'cabin', 'embarked', 'boat', 'home.dest'"
   ]
  },
  {
   "cell_type": "code",
   "execution_count": 52,
   "id": "65ee2dca-6ff6-4d76-a3aa-1dffaeb6ae64",
   "metadata": {},
   "outputs": [
    {
     "name": "stdout",
     "output_type": "stream",
     "text": [
      "    'pclass'  'survived'                                             'name'  \\\n",
      "0          1           1                      Allen, Miss. Elisabeth Walton   \n",
      "1          1           1                     Allison, Master. Hudson Trevor   \n",
      "2          1           0                       Allison, Miss. Helen Loraine   \n",
      "3          1           0               Allison, Mr. Hudson Joshua Creighton   \n",
      "4          1           0    Allison, Mrs. Hudson J C (Bessie Waldo Daniels)   \n",
      "5          1           1                                Anderson, Mr. Harry   \n",
      "6          1           1                  Andrews, Miss. Kornelia Theodosia   \n",
      "7          1           0                             Andrews, Mr. Thomas Jr   \n",
      "8          1           1      Appleton, Mrs. Edward Dale (Charlotte Lamson)   \n",
      "9          1           0                            Artagaveytia, Mr. Ramon   \n",
      "10         1           0                             Astor, Col. John Jacob   \n",
      "11         1           1  Astor, Mrs. John Jacob (Madeleine Talmadge Force)   \n",
      "12         1           1                      Aubart, Mme. Leontine Pauline   \n",
      "13         1           1                       Barber, Miss. Ellen 'Nellie'   \n",
      "14         1           1               Barkworth, Mr. Algernon Henry Wilson   \n",
      "15         1           0                                Baumann, Mr. John D   \n",
      "16         1           0                           Baxter, Mr. Quigg Edmond   \n",
      "17         1           1    Baxter, Mrs. James (Helene DeLaudeniere Chaput)   \n",
      "18         1           1                              Bazzani, Miss. Albina   \n",
      "19         1           0                               Beattie, Mr. Thomson   \n",
      "\n",
      "     'sex'    'age'  'sibsp'  'parch'  'ticket'    'fare'  'cabin' 'embarked'  \\\n",
      "0   female  29.0000        0        0     24160  211.3375       B5          S   \n",
      "1     male   0.9167        1        2    113781  151.5500  C22 C26          S   \n",
      "2   female   2.0000        1        2    113781  151.5500  C22 C26          S   \n",
      "3     male  30.0000        1        2    113781  151.5500  C22 C26          S   \n",
      "4   female  25.0000        1        2    113781  151.5500  C22 C26          S   \n",
      "5     male  48.0000        0        0     19952   26.5500      E12          S   \n",
      "6   female  63.0000        1        0     13502   77.9583       D7          S   \n",
      "7     male  39.0000        0        0    112050    0.0000      A36          S   \n",
      "8   female  53.0000        2        0     11769   51.4792     C101          S   \n",
      "9     male  71.0000        0        0  PC 17609   49.5042      NaN          C   \n",
      "10    male  47.0000        1        0  PC 17757  227.5250  C62 C64          C   \n",
      "11  female  18.0000        1        0  PC 17757  227.5250  C62 C64          C   \n",
      "12  female  24.0000        0        0  PC 17477   69.3000      B35          C   \n",
      "13  female  26.0000        0        0     19877   78.8500      NaN          S   \n",
      "14    male  80.0000        0        0     27042   30.0000      A23          S   \n",
      "15    male      NaN        0        0  PC 17318   25.9250      NaN          S   \n",
      "16    male  24.0000        0        1  PC 17558  247.5208  B58 B60          C   \n",
      "17  female  50.0000        0        1  PC 17558  247.5208  B58 B60          C   \n",
      "18  female  32.0000        0        0     11813   76.2917      D15          C   \n",
      "19    male  36.0000        0        0     13050   75.2417       C6          C   \n",
      "\n",
      "   'boat'  'body'                      'home.dest'  AgeNull  \n",
      "0       2     NaN                     St Louis, MO        0  \n",
      "1      11     NaN  Montreal, PQ / Chesterville, ON        0  \n",
      "2     NaN     NaN  Montreal, PQ / Chesterville, ON        0  \n",
      "3     NaN   135.0  Montreal, PQ / Chesterville, ON        0  \n",
      "4     NaN     NaN  Montreal, PQ / Chesterville, ON        0  \n",
      "5       3     NaN                     New York, NY        0  \n",
      "6      10     NaN                       Hudson, NY        0  \n",
      "7     NaN     NaN                      Belfast, NI        0  \n",
      "8       D     NaN              Bayside, Queens, NY        0  \n",
      "9     NaN    22.0              Montevideo, Uruguay        0  \n",
      "10    NaN   124.0                     New York, NY        0  \n",
      "11      4     NaN                     New York, NY        0  \n",
      "12      9     NaN                    Paris, France        0  \n",
      "13      6     NaN                              NaN        0  \n",
      "14      B     NaN                    Hessle, Yorks        0  \n",
      "15    NaN     NaN                     New York, NY        1  \n",
      "16    NaN     NaN                     Montreal, PQ        0  \n",
      "17      6     NaN                     Montreal, PQ        0  \n",
      "18      8     NaN                              NaN        0  \n",
      "19      A     NaN                     Winnipeg, MN        0  \n"
     ]
    }
   ],
   "source": [
    "df_first20 = df.head(20)\n",
    "print(df_first20) #podglądam 20 pierwszych wierszy"
   ]
  },
  {
   "cell_type": "markdown",
   "id": "f61de300-a5e1-4209-b0ed-d7ed5fa129a7",
   "metadata": {},
   "source": [
    "Przed użyciem poniższych funckji zadbałam, aby przy wczytywaniu za wartości NaN brało '?'\n",
    "\n",
    "Mamy tutaj 14 cech (features), które charakteryzują danego pasażera statku."
   ]
  },
  {
   "cell_type": "code",
   "execution_count": 38,
   "id": "45593dd5-0a7a-428a-aa6a-bc5bbc49a52e",
   "metadata": {},
   "outputs": [
    {
     "data": {
      "text/plain": [
       "'pclass'          0\n",
       "'survived'        0\n",
       "'name'            0\n",
       "'sex'             0\n",
       "'age'           263\n",
       "'sibsp'           0\n",
       "'parch'           0\n",
       "'ticket'          0\n",
       "'fare'            1\n",
       "'cabin'        1014\n",
       "'embarked'        2\n",
       "'boat'          823\n",
       "'body'         1188\n",
       "'home.dest'     564\n",
       "dtype: int64"
      ]
     },
     "execution_count": 38,
     "metadata": {},
     "output_type": "execute_result"
    }
   ],
   "source": [
    "df.isnull().sum()"
   ]
  },
  {
   "cell_type": "code",
   "execution_count": 39,
   "id": "7991e302-0c70-4093-be58-adb747a6ab0b",
   "metadata": {},
   "outputs": [
    {
     "data": {
      "text/plain": [
       "'pclass'       0.000000\n",
       "'survived'     0.000000\n",
       "'name'         0.000000\n",
       "'sex'          0.000000\n",
       "'age'          0.200917\n",
       "'sibsp'        0.000000\n",
       "'parch'        0.000000\n",
       "'ticket'       0.000000\n",
       "'fare'         0.000764\n",
       "'cabin'        0.774637\n",
       "'embarked'     0.001528\n",
       "'boat'         0.628724\n",
       "'body'         0.907563\n",
       "'home.dest'    0.430863\n",
       "dtype: float64"
      ]
     },
     "execution_count": 39,
     "metadata": {},
     "output_type": "execute_result"
    }
   ],
   "source": [
    "df.isnull().mean()"
   ]
  },
  {
   "cell_type": "markdown",
   "id": "789b3435-ef11-492c-a57f-f96857025e45",
   "metadata": {},
   "source": [
    "Zmienne z wartościami brakującymi: age, fare, cabin, embarked, boat, body, home.dest"
   ]
  },
  {
   "cell_type": "markdown",
   "id": "b0e0d158-34aa-4c66-a892-38b88010b099",
   "metadata": {},
   "source": [
    "Zmienne, gdzie brakuje mnije niż 5% danych: fare, embarked. Prawdopodobnie są to dane MCAR(Missing Data Completely at Random)"
   ]
  },
  {
   "cell_type": "markdown",
   "id": "dd1ffb8f-f153-478b-b92f-7b95b35a0b36",
   "metadata": {},
   "source": [
    "Zmienne, gdzie brakuje więcej niż 5% danych: age (20%), cabin (77%), boat (63%), body (91%), home.dest (43%)"
   ]
  },
  {
   "cell_type": "markdown",
   "id": "118ed75c-5359-4ff3-bc3b-fcf63965006c",
   "metadata": {},
   "source": [
    "### age (20%)"
   ]
  },
  {
   "cell_type": "markdown",
   "id": "6ca821d5-b787-4580-9701-442ac33b4de9",
   "metadata": {},
   "source": [
    "Sprawdzam rozkład braków w 'age' względem klasy, infomracji czy przeżyła osoba, czy nie"
   ]
  },
  {
   "cell_type": "code",
   "execution_count": 74,
   "id": "f20ab0d4-1e88-497c-bcb3-57598b21b871",
   "metadata": {},
   "outputs": [
    {
     "name": "stdout",
     "output_type": "stream",
     "text": [
      "\n",
      "Liczba osób, z każdej klasy:\n",
      "'pclass'\n",
      "3    709\n",
      "1    323\n",
      "2    277\n",
      "Name: count, dtype: int64\n",
      "Braki w wieku względem klasy (pclass):\n",
      "'pclass'\n",
      "3    208\n",
      "1     39\n",
      "2     16\n",
      "Name: count, dtype: int64\n"
     ]
    }
   ],
   "source": [
    "print(\"\\nLiczba osób, z każdej klasy:\")\n",
    "print(df[\"'pclass'\"].value_counts())\n",
    "print(\"Braki w wieku względem klasy (pclass):\")\n",
    "print(df[df[\"'age'\"].isna()][\"'pclass'\"].value_counts())"
   ]
  },
  {
   "cell_type": "code",
   "execution_count": 76,
   "id": "3230d470-1c0c-434c-9b0b-c3acb3ae611c",
   "metadata": {},
   "outputs": [
    {
     "name": "stdout",
     "output_type": "stream",
     "text": [
      "\n",
      "Procent braków wieku (age) względem klasy (grupy społecznej):\n",
      "'pclass'\n",
      "1    0.120743\n",
      "2    0.057762\n",
      "3    0.293371\n",
      "Name: AgeNull, dtype: float64\n"
     ]
    }
   ],
   "source": [
    "print(\"\\nProcent braków wieku (age) względem klasy (grupy społecznej):\")\n",
    "df['AgeNull'] = np.where(df[\"'age'\"].isnull(), 1, 0)\n",
    "wynik2 = df.groupby([\"'pclass'\"])['AgeNull'].mean()\n",
    "print(wynik2)"
   ]
  },
  {
   "cell_type": "code",
   "execution_count": 70,
   "id": "b97a7542-3254-4102-9780-f5c646e884bf",
   "metadata": {},
   "outputs": [
    {
     "name": "stdout",
     "output_type": "stream",
     "text": [
      "\n",
      "Liczba osób, które przeżyły, nie przeyżyły (survived):\n",
      "'survived'\n",
      "0    809\n",
      "1    500\n",
      "Name: count, dtype: int64\n",
      "\n",
      "Braki w wieku względem przeżycia (survived):\n",
      "'survived'\n",
      "0    190\n",
      "1     73\n",
      "Name: count, dtype: int64\n"
     ]
    }
   ],
   "source": [
    "print(\"\\nLiczba osób, które przeżyły, nie przeżyły (survived):\")\n",
    "print(df[\"'survived'\"].value_counts())\n",
    "print(\"\\nBraki w wieku względem przeżycia (survived):\")\n",
    "print(df[df[\"'age'\"].isna()][\"'survived'\"].value_counts())"
   ]
  },
  {
   "cell_type": "code",
   "execution_count": 71,
   "id": "c213a17a-6c5e-41bd-91cc-9d0a6f0beb27",
   "metadata": {},
   "outputs": [
    {
     "name": "stdout",
     "output_type": "stream",
     "text": [
      "\n",
      "Procent braków wieku (age) w każdej grupie przeżycia (survived):\n",
      "'survived'\n",
      "0    0.234858\n",
      "1    0.146000\n",
      "Name: AgeNull, dtype: float64\n"
     ]
    }
   ],
   "source": [
    "wynik = df.groupby([\"'survived'\"])['AgeNull'].mean()\n",
    "print(\"\\nProcent braków wieku (age) w każdej grupie przeżycia (survived):\")\n",
    "print(wynik)"
   ]
  },
  {
   "cell_type": "code",
   "execution_count": 72,
   "id": "23609a8c-62b7-4640-8d3f-c3e3ac240108",
   "metadata": {},
   "outputs": [
    {
     "name": "stdout",
     "output_type": "stream",
     "text": [
      "\n",
      "Liczba osób, które zginęły w każdej klasie:\n",
      "'pclass'\n",
      "1    123\n",
      "2    158\n",
      "3    528\n",
      "Name: count, dtype: int64\n"
     ]
    }
   ],
   "source": [
    "#Dodatkowo sprawdzam ile osób zginęło w każdej klasie, aby zobaczyć z której grupy społecznej najwięcej osób straciło życie\n",
    "survived_to_class = df[df[\"'survived'\"] == 0][\"'pclass'\"].value_counts().sort_index()\n",
    "print(\"\\nLiczba osób, które zginęły w każdej klasie:\")\n",
    "print(survived_to_class)"
   ]
  },
  {
   "cell_type": "markdown",
   "id": "ece6c7ee-a49a-47e8-a732-3e1d0cd5986f",
   "metadata": {},
   "source": [
    "Najwięcej braków w kolumnie age występuje wśród pasażerów 3. klasy – 208 przypadków na 709 osób, co stanowi około 29%. Sugeruje to, że pasażerowie tej klasy rzadziej mieli odnotowany wiek, prawdopodobnie ze względu na niższy status społeczny oraz mniej dokładną dokumentację.\n",
    "\n",
    "Osoby, które nie przeżyły, częściej mają brakującą wartość age (190 z 809 osób – 23%) niż te, które przeżyły (73 z 500 osób – 14,6%). Pokrywa się to z faktem, że najwięcej ofiar pochodziło z 3. klasy, w której notowano najwięcej braków wieku.\n",
    "\n",
    "Brakujące wartości w kolumnie age można zaklasyfikować jako MAR (Missing At Random), ponieważ ich występowanie zależy od innych zaobserwowanych zmiennych w zbiorze danych, takich jak pclass (klasa pasażera) oraz survived (czy pasażer przeżył). Nie są to dane losowo brakujące (MCAR), ani też braki wynikające bezpośrednio z wartości zmiennej age (MNAR). Występowanie braków jest raczej związane z kontekstem – sposobem traktowania, dokumentowania i rejestrowania pasażerów różnych klas."
   ]
  },
  {
   "cell_type": "markdown",
   "id": "0afb9705-361f-4f35-b945-3caac21f7ac7",
   "metadata": {},
   "source": [
    "### cabin (77%)"
   ]
  },
  {
   "cell_type": "code",
   "execution_count": 88,
   "id": "9e7b3638-be21-440d-87dd-93e330c0eebc",
   "metadata": {},
   "outputs": [
    {
     "name": "stdout",
     "output_type": "stream",
     "text": [
      "Procent braków informacji o kabinie (cabin) w każdej klasie:\n",
      "'pclass'\n",
      "1    0.207430\n",
      "2    0.916968\n",
      "3    0.977433\n",
      "Name: CabinNull, dtype: float64\n",
      "\n",
      "Braki w informacji o kabinie względem klasy:\n",
      "'pclass'\n",
      "3    693\n",
      "2    254\n",
      "1     67\n",
      "Name: count, dtype: int64\n"
     ]
    }
   ],
   "source": [
    "df['CabinNull'] = np.where(df[\"'cabin'\"].isnull(), 1, 0)\n",
    "wynik3 = df.groupby([\"'pclass'\"])['CabinNull'].mean()\n",
    "#wynik3 = df.groupby([\"'pclass'\"]).apply(lambda g: np.where(g[\"'cabin'\"].isnull(), 1, 0).mean())\n",
    "print(\"Procent braków informacji o kabinie (cabin) w każdej klasie:\")\n",
    "print(wynik3)\n",
    "\n",
    "print(\"\\nBraki w informacji o kabinie względem klasy:\")\n",
    "print(df[df[\"'cabin'\"].isna()][\"'pclass'\"].value_counts())\n"
   ]
  },
  {
   "cell_type": "markdown",
   "id": "ef5c8421-813f-4be9-a708-943e0ae69f19",
   "metadata": {},
   "source": [
    "Najwięcej braków informacji o kabinie (cabin) występuje w 3. klasie – aż 97,7% pasażerów tej klasy (693 osoby) nie ma przypisanej kabiny. W 2. klasie braki występują u 91,7% osób (254 osoby), natomiast 1. klasa ma znacznie mniej braków – tylko 20,7% (67 osób).\n",
    "\n",
    "Wskazuje to na silny związek między zmienną cabin a klasą (pclass) – brak informacji o kabinie jest zdecydowanie częstszy w niższych klasach, co wynika z faktu, że pasażerowie 2. i 3. klasy często nie mieli przydzielonych indywidualnych kajut lub ich kabiny nie były dokumentowane."
   ]
  },
  {
   "cell_type": "code",
   "execution_count": 92,
   "id": "32e58fb2-84e2-42a2-8c4c-6ab84091138e",
   "metadata": {},
   "outputs": [
    {
     "name": "stdout",
     "output_type": "stream",
     "text": [
      "Procent braków kabiny względem liczby rodzeństwa/małżonków (sibsp) i klasy:\n",
      "'pclass'  'sibsp'\n",
      "1         0          0.287879\n",
      "          1          0.079646\n",
      "          2          0.125000\n",
      "          3          0.000000\n",
      "2         0          0.901099\n",
      "          1          0.975610\n",
      "          2          0.750000\n",
      "          3          1.000000\n",
      "3         0          0.976517\n",
      "          1          0.967742\n",
      "          2          1.000000\n",
      "          3          1.000000\n",
      "          4          1.000000\n",
      "          5          1.000000\n",
      "          8          1.000000\n",
      "Name: CabinNull, dtype: float64\n",
      "\n",
      "Procent braków kabiny względem liczby dzieci/rodziców (parch) i klasy:\n",
      "'pclass'  'parch'\n",
      "1         0          0.252066\n",
      "          1          0.120000\n",
      "          2          0.000000\n",
      "          3          0.000000\n",
      "          4          0.000000\n",
      "2         0          0.922330\n",
      "          1          0.883721\n",
      "          2          0.960000\n",
      "          3          0.666667\n",
      "3         0          0.985560\n",
      "          1          0.909091\n",
      "          2          0.983607\n",
      "          3          1.000000\n",
      "          4          1.000000\n",
      "          5          1.000000\n",
      "          6          1.000000\n",
      "          9          1.000000\n",
      "Name: CabinNull, dtype: float64\n"
     ]
    }
   ],
   "source": [
    "print(\"Procent braków kabiny względem liczby rodzeństwa/małżonków (sibsp) i klasy:\")\n",
    "print(df.groupby([\"'pclass'\",\"'sibsp'\"])['CabinNull'].mean())\n",
    "\n",
    "print(\"\\nProcent braków kabiny względem liczby dzieci/rodziców (parch) i klasy:\")\n",
    "print(df.groupby([\"'pclass'\",\"'parch'\"])['CabinNull'].mean())\n"
   ]
  },
  {
   "cell_type": "markdown",
   "id": "1e15927e-69d6-4838-a358-f9ce6cfa2163",
   "metadata": {},
   "source": [
    "\n",
    "Braki informacji o kabinie (cabin) są silnie zależne od klasy (pclass) oraz liczby towarzyszących osób (sibsp, parch).\n",
    "\n",
    "W 1. klasie osoby podróżujące z rodziną miały znacznie mniejszy odsetek braków, co sugeruje lepszą dokumentację i przypisywanie wspólnych kabin.\n",
    "\n",
    "W 2. i 3. klasie braki kabiny były bardzo częste (ponad 90%), niezależnie od tego, czy pasażerowie podróżowali samotnie, czy z rodziną.\n",
    "\n",
    "Braki cabin są typu MAR (Missing At Random), ponieważ ich występowanie zależy od klasy i struktury rodziny pasażera.\n"
   ]
  },
  {
   "cell_type": "markdown",
   "id": "53fa5646-1764-46ee-ae74-37e6c523d433",
   "metadata": {},
   "source": [
    "### boat (63%)"
   ]
  },
  {
   "cell_type": "code",
   "execution_count": 108,
   "id": "ee468320-10e9-463d-9bdc-d9477bded1f8",
   "metadata": {},
   "outputs": [
    {
     "name": "stdout",
     "output_type": "stream",
     "text": [
      "\n",
      "Procent braków informacji o łodzi (boat) w każdej grupie przeżycia (survived):\n",
      "'survived'\n",
      "0    0.988875\n",
      "1    0.046000\n",
      "Name: BoatNull, dtype: float64\n"
     ]
    }
   ],
   "source": [
    "df['BoatNull'] = np.where(df[\"'boat'\"].isnull(), 1, 0)\n",
    "print(\"\\nProcent braków informacji o łodzi (boat) w każdej grupie przeżycia (survived):\")\n",
    "print(df.groupby([\"'survived'\"])['BoatNull'].mean())"
   ]
  },
  {
   "cell_type": "code",
   "execution_count": 101,
   "id": "e66a6e0b-1eaa-413f-bf2f-27e40527c25d",
   "metadata": {},
   "outputs": [
    {
     "name": "stdout",
     "output_type": "stream",
     "text": [
      "\n",
      "Liczba osób z przypisaną łodzią (boat), w podziale na przeżycie (survived):\n",
      "'survived'\n",
      "1    477\n",
      "0      9\n",
      "Name: count, dtype: int64\n"
     ]
    }
   ],
   "source": [
    "print(\"\\nLiczba osób z przypisaną łodzią (boat), w podziale na przeżycie (survived):\")\n",
    "print(df[df[\"'boat'\"].notna()][\"'survived'\"].value_counts())"
   ]
  },
  {
   "cell_type": "code",
   "execution_count": null,
   "id": "276f8065-12aa-4926-9b28-5ed404a23772",
   "metadata": {},
   "outputs": [],
   "source": []
  },
  {
   "cell_type": "markdown",
   "id": "b9e4d01d-d08d-463b-9427-a8896fbd0af0",
   "metadata": {},
   "source": [
    "Braki w informacji o łodzi ratunkowej (boat) silnie zależą od tego, czy pasażer przeżył. Aż 98,9% osób, które zginęły, nie ma przypisanego numeru łodzi, podczas gdy wśród osób, które przeżyły, brak ten występuje tylko w 4,6% przypadków.\n",
    "\n",
    "Z łącznej liczby 486 osób z przypisaną łodzią, aż 477 to osoby, które przeżyły, co wskazuje, że obecność numeru łodzi jest silnie związana z przeżyciem.\n",
    "\n",
    "Braki te można uznać za dane typu MNAR (Missing Not at Random), ponieważ brak informacji o łodzi wynika bezpośrednio z faktu, że pasażer nie zdążył się do niej dostać i zginął. Innymi słowy, osoby, które nie przeżyły, niemal zawsze nie mają przypisanego numeru łodzi, ponieważ nie zostały ewakuowane – co stanowi mechanizm przyczynowo-skutkowy. Można również znaleźć argumenty za tym, że jest to MAR, bo jeśli znamy survived, to możemy niemal zawsze przewidzieć brak boat"
   ]
  },
  {
   "cell_type": "markdown",
   "id": "c2257274-15d4-45d4-bf84-c4efc787e44b",
   "metadata": {},
   "source": [
    "### body (91%)"
   ]
  },
  {
   "cell_type": "code",
   "execution_count": 112,
   "id": "0f0bf099-6fdd-4f38-86fa-bf481f9bdd4f",
   "metadata": {},
   "outputs": [
    {
     "name": "stdout",
     "output_type": "stream",
     "text": [
      "\n",
      "Procent braków informacji o ciele (body) w każdej grupie przeżycia (survived):\n",
      "'survived'\n",
      "0    0.850433\n",
      "1    1.000000\n",
      "Name: BodyNull, dtype: float64\n"
     ]
    }
   ],
   "source": [
    "df['BodyNull'] = np.where(df[\"'body'\"].isnull(), 1, 0)\n",
    "print(\"\\nProcent braków informacji o ciele (body) w każdej grupie przeżycia (survived):\")\n",
    "print(df.groupby([\"'survived'\"])['BodyNull'].mean())\n"
   ]
  },
  {
   "cell_type": "markdown",
   "id": "b759bb40-286a-4202-a23c-81fbf9945ee3",
   "metadata": {},
   "source": [
    "Brakuje aż 90% danych dotyczących numeru ciała (body). Braki te wynikają z faktu, że osoby, które przeżyły, nie mają przypisanego numeru ciała, a wiele ofiar nie zostało odnalezionych lub nie udało się ich zidentyfikować — co jest związane z tragicznym charakterem katastrofy.\n",
    "\n",
    "85% osób, które zginęły, nie ma przypisanego numeru ciała, natomiast 100% osób, które przeżyły, ma braki w tej kolumnie. Wynika to z faktu, że numer ciała był przypisywany wyłącznie ofiarom, których ciała zostały odnalezione i zidentyfikowane — osoby, które przeżyły, nie mają podstaw, by taka informacja się pojawiła.\n",
    "\n",
    "Braki te należy zaklasyfikować jako dane typu MNAR (Missing Not at Random), ponieważ brak informacji o numerze ciała nie jest przypadkowy — zależy bezpośrednio od faktu śmierci oraz możliwości odnalezienia i identyfikacji ofiary. Brak ten jest zatem powiązany z wartością zmiennej i wynika z konkretnego mechanizmu przyczynowo-skutkowego."
   ]
  },
  {
   "cell_type": "code",
   "execution_count": 35,
   "id": "7f18c331-165d-4816-8703-19f99c0c5c30",
   "metadata": {},
   "outputs": [
    {
     "name": "stdout",
     "output_type": "stream",
     "text": [
      "Empty DataFrame\n",
      "Columns: ['survived', 'body']\n",
      "Index: []\n"
     ]
    }
   ],
   "source": [
    "df_filtered = df[(df[\"'survived'\"] == 1) & (df[\"'body'\"].notna())]\n",
    "print(df_filtered[[\"'survived'\", \"'body'\"]])"
   ]
  },
  {
   "cell_type": "markdown",
   "id": "1f28036d-bd53-4d01-8544-fac6b93fad4c",
   "metadata": {},
   "source": [
    "Potwierdza to, że nie ma ani jednego rekordu, gdzie jednocześnie jest informacja, że ktoś przeżył i jest numer ciała. "
   ]
  },
  {
   "cell_type": "markdown",
   "id": "20056638-4a76-4b25-a40b-28a006efdc38",
   "metadata": {},
   "source": [
    "### home.dest (43%)"
   ]
  },
  {
   "cell_type": "code",
   "execution_count": 113,
   "id": "0605a0c5-1f76-4f4f-b0b6-d16fb681cec5",
   "metadata": {},
   "outputs": [
    {
     "name": "stdout",
     "output_type": "stream",
     "text": [
      "\n",
      "Procent braków informacji o destynacji w każdej grupie przeżycia (survived):\n",
      "'pclass'\n",
      "1    0.105263\n",
      "2    0.057762\n",
      "3    0.724965\n",
      "Name: HomeDestNull, dtype: float64\n"
     ]
    }
   ],
   "source": [
    "df['HomeDestNull'] = np.where(df[\"'home.dest'\"].isnull(), 1, 0)\n",
    "print(\"\\nProcent braków informacji o destynacji w każdej klasie:\")\n",
    "print(df.groupby([\"'pclass'\"])['HomeDestNull'].mean())"
   ]
  },
  {
   "cell_type": "code",
   "execution_count": 114,
   "id": "93099dce-f127-43d0-ae9a-fc37393606fd",
   "metadata": {},
   "outputs": [
    {
     "name": "stdout",
     "output_type": "stream",
     "text": [
      "\n",
      "Procent braków informacji o destynacji w każdej grupie przeżycia (survived):\n",
      "'survived'\n",
      "0    0.508035\n",
      "1    0.306000\n",
      "Name: HomeDestNull, dtype: float64\n"
     ]
    }
   ],
   "source": [
    "print(\"\\nProcent braków informacji o destynacji w każdej grupie przeżycia (survived):\")\n",
    "print(df.groupby([\"'survived'\"])['HomeDestNull'].mean())"
   ]
  },
  {
   "cell_type": "markdown",
   "id": "5ec8dbfa-ecde-46e4-a4de-a3c9313aef83",
   "metadata": {},
   "source": [
    "Aż 72% pasażerów 3 klasy nie miało udokumentowanego miejsca docelowego, ponieważ pasażerowie niższych klas byli słabiej dokumentowani, a dane dotyczące ich miejsca docelowego często nie były rejestrowane lub zaginęły. Braki te są typu MAR (Missing At Random), ponieważ ich występowanie zależy od zmiennych takich jak klasa (pclass), a nie od samej wartości home.dest."
   ]
  },
  {
   "cell_type": "markdown",
   "id": "03910be1-7186-4011-87b8-0c76cc62755a",
   "metadata": {},
   "source": [
    "### W jaki sposób należy postąpić z brakującymi wartościami?"
   ]
  },
  {
   "cell_type": "code",
   "execution_count": null,
   "id": "1fa99304-063e-4679-9ffd-a293eb2c1bff",
   "metadata": {},
   "outputs": [],
   "source": []
  }
 ],
 "metadata": {
  "kernelspec": {
   "display_name": "Python (DataScience)",
   "language": "python",
   "name": "datascience"
  },
  "language_info": {
   "codemirror_mode": {
    "name": "ipython",
    "version": 3
   },
   "file_extension": ".py",
   "mimetype": "text/x-python",
   "name": "python",
   "nbconvert_exporter": "python",
   "pygments_lexer": "ipython3",
   "version": "3.11.11"
  }
 },
 "nbformat": 4,
 "nbformat_minor": 5
}
